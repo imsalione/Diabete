{
 "cells": [
  {
   "cell_type": "code",
   "execution_count": null,
   "metadata": {},
   "outputs": [],
   "source": [
    "from collections import Counter\n",
    "\n",
    "import matplotlib.pyplot as plt\n",
    "import numpy as np\n",
    "import pandas as pd\n",
    "import seaborn as sns\n",
    "import sklearn\n",
    "from imblearn.combine import SMOTETomek\n",
    "from imblearn.over_sampling import SMOTE\n",
    "from sklearn import datasets\n",
    "from sklearn.datasets import make_regression\n",
    "from sklearn.ensemble import RandomForestClassifier\n",
    "from sklearn.linear_model import Lasso, LinearRegression, LogisticRegression, Ridge\n",
    "from sklearn.metrics import (\n",
    "    accuracy_score,\n",
    "    classification_report,\n",
    "    confusion_matrix,\n",
    "    f1_score,\n",
    "    mean_squared_error,\n",
    "    r2_score,\n",
    ")\n",
    "from sklearn.model_selection import train_test_split\n",
    "from sklearn.neural_network import MLPClassifier\n",
    "from sklearn.preprocessing import StandardScaler, minmax_scale\n",
    "from sklearn.svm import SVC\n",
    "from sklearn.tree import DecisionTreeClassifier\n",
    "from xgboost import XGBClassifier"
   ]
  },
  {
   "cell_type": "code",
   "execution_count": null,
   "metadata": {},
   "outputs": [],
   "source": [
    "df = pd.read_csv(\"https://raw.githubusercontent.com/imsalione/Diabete/main/src/diabetes.csv\")\n",
    "df\n",
    "df.shape\n",
    "df.isnull().sum()\n",
    "df.Diabetes_012.value_counts()\n",
    "df.columns\n",
    "df.Diabetes_012.value_counts(normalize=1)\n",
    "df.Diabetes_012.replace(2.0, 1.0, inplace=True)"
   ]
  },
  {
   "cell_type": "code",
   "execution_count": null,
   "metadata": {},
   "outputs": [],
   "source": [
    "# Correlation\n",
    "\n",
    "plt.figure(figsize=(10, 8))\n",
    "df.corr(\"pearson\")[\"Diabetes_012\"]\n",
    "fig2 = plt.bar(\n",
    "    df.corr(\"pearson\")[\"Diabetes_012\"].index, df.corr(\"pearson\")[\"Diabetes_012\"]\n",
    ")\n",
    "plt.xticks(rotation=90)\n",
    "\n",
    "plt.figure(figsize=(20, 20))\n",
    "sns.heatmap(\n",
    "    df[df.columns].corr(),\n",
    "    annot=True,\n",
    "    cmap=\"coolwarm\",\n",
    ")\n",
    "plt.title(\"Correlation Heatmap\")\n",
    "plt.show()"
   ]
  },
  {
   "cell_type": "code",
   "execution_count": null,
   "metadata": {},
   "outputs": [],
   "source": [
    "# Drop features with weak correlation\n",
    "\n",
    "df.drop([\"Fruits\", \"Veggies\", \"NoDocbcCost\"], axis=1, inplace=True)\n",
    "df.shape\n",
    "X = df.iloc[:, 1:]\n",
    "y = df.iloc[:, 0]\n",
    "df.columns = df.columns.str.replace(\" \", \"\")\n",
    "print(y.value_counts())\n",
    "y.value_counts()\n",
    "\n",
    "for c in X.columns:\n",
    "    hist = X.hist(column=c, figsize=(4, 4))"
   ]
  },
  {
   "cell_type": "code",
   "execution_count": null,
   "metadata": {},
   "outputs": [],
   "source": [
    "bmi_scaler = StandardScaler()\n",
    "cols_to_scale = [\"BMI\"]\n",
    "bmi_scaler.fit(X[cols_to_scale])\n",
    "X.loc[:, cols_to_scale] = bmi_scaler.transform(X[cols_to_scale])\n",
    "fig = X.hist(column=\"BMI\", figsize=(5, 5))\n",
    "import warnings\n",
    "\n",
    "warnings.filterwarnings(\"ignore\")\n",
    "\n",
    "\n",
    "X.hist(column=\"GenHlth\", figsize=(5, 5))\n",
    "gh_scaler = StandardScaler()\n",
    "cols_to_scale = [\"GenHlth\"]\n",
    "gh_scaler.fit(X[cols_to_scale])\n",
    "X[cols_to_scale] = gh_scaler.transform(X[cols_to_scale])\n",
    "X.hist(column=\"GenHlth\", figsize=(5, 5))"
   ]
  },
  {
   "cell_type": "code",
   "execution_count": null,
   "metadata": {},
   "outputs": [],
   "source": [
    "from sklearn.preprocessing import MinMaxScaler\n",
    "\n",
    "X.hist(column=\"MentHlth\", figsize=(5, 5))\n",
    "ment_scaler = MinMaxScaler()\n",
    "cols_to_scale = [\"MentHlth\"]\n",
    "ment_scaler.fit(X[cols_to_scale])\n",
    "X[cols_to_scale] = ment_scaler.transform(X[cols_to_scale])\n",
    "X.hist(column=\"MentHlth\", figsize=(5, 5))"
   ]
  },
  {
   "cell_type": "code",
   "execution_count": null,
   "metadata": {},
   "outputs": [],
   "source": [
    "X.hist(column=\"PhysHlth\", figsize=(5, 5))\n",
    "phys_scaler = MinMaxScaler()\n",
    "cols_to_scale = [\"PhysHlth\"]\n",
    "phys_scaler.fit(X[cols_to_scale])\n",
    "X[cols_to_scale] = phys_scaler.transform(X[cols_to_scale])\n",
    "X.hist(column=\"PhysHlth\", figsize=(5, 5))"
   ]
  },
  {
   "cell_type": "code",
   "execution_count": null,
   "metadata": {},
   "outputs": [],
   "source": [
    "X.hist(column=\"Age\", figsize=(5, 5))\n",
    "age_scaler = MinMaxScaler()\n",
    "cols_to_scale = [\"Age\"]\n",
    "age_scaler.fit(X[cols_to_scale])\n",
    "X[cols_to_scale] = age_scaler.transform(X[cols_to_scale])\n",
    "X.hist(column=\"Age\", figsize=(5, 5))"
   ]
  },
  {
   "cell_type": "code",
   "execution_count": null,
   "metadata": {},
   "outputs": [],
   "source": [
    "X.hist(column=\"Education\", figsize=(5, 5))\n",
    "edu_scaler = MinMaxScaler()\n",
    "cols_to_scale = [\"Education\"]\n",
    "edu_scaler.fit(X[cols_to_scale])\n",
    "X[cols_to_scale] = edu_scaler.transform(X[cols_to_scale])\n",
    "X.hist(column=\"Education\", figsize=(5, 5))"
   ]
  },
  {
   "cell_type": "code",
   "execution_count": null,
   "metadata": {},
   "outputs": [],
   "source": [
    "X.hist(column=\"Income\", figsize=(5, 5))\n",
    "income_cat_to_avg_map = {\n",
    "    1: 5,\n",
    "    2: 12.5,\n",
    "    3: 17.5,\n",
    "    4: 22.5,\n",
    "    5: 30.0,\n",
    "    6: 42.5,\n",
    "    7: 62.5,\n",
    "    8: 75,\n",
    "}\n",
    "X = X.assign(Income=X.Income.map(income_cat_to_avg_map))\n",
    "X.hist(column=\"Income\", figsize=(5, 5))\n",
    "inc_scaler = MinMaxScaler()\n",
    "cols_to_scale = [\"Income\"]\n",
    "inc_scaler.fit(X[cols_to_scale])\n",
    "X[cols_to_scale] = inc_scaler.transform(X[cols_to_scale])\n",
    "X.hist(column=\"Income\", figsize=(5, 5))"
   ]
  },
  {
   "cell_type": "code",
   "execution_count": null,
   "metadata": {},
   "outputs": [],
   "source": [
    "X_train, X_test, y_train, y_test = train_test_split(X, y, test_size=0.2, random_state=1)\n",
    "X_train, X_val, y_train, y_val = train_test_split(\n",
    "    X_train, y_train, test_size=0.2, random_state=1\n",
    ")\n",
    "# pd.Series(y_test).value_counts().plot(kind=\"bar\")\n",
    "smt = SMOTETomek(random_state=1)\n",
    "X_train, y_train = smt.fit_resample(X_train, y_train)"
   ]
  },
  {
   "cell_type": "code",
   "execution_count": null,
   "metadata": {},
   "outputs": [],
   "source": [
    "import warnings\n",
    "\n",
    "warnings.filterwarnings(\"ignore\")\n",
    "\n",
    "pd.Series(y_train).value_counts()  # tomlink=134888 Smote=136796\n",
    "X_train.shape[0] + X_test.shape[0] + X_val.shape[0]  # tomlink=361101 smote=364917"
   ]
  },
  {
   "cell_type": "code",
   "execution_count": null,
   "metadata": {},
   "outputs": [],
   "source": [
    "# Random Forest\n",
    "\n",
    "ne = [100]\n",
    "mf = range(2, 15)\n",
    "md = range(6, 15)\n",
    "best = (0, None, (0, 0, 0))\n",
    "\n",
    "for a in ne:\n",
    "    for b in mf:\n",
    "        for c in md:\n",
    "            print(\"a={},b={},c={}\".format(a, b, c))\n",
    "            rf_orig = RandomForestClassifier(\n",
    "                n_estimators=a, max_features=b, max_depth=c\n",
    "            )\n",
    "            rf_orig.fit(X_train, y_train)\n",
    "            train_score = rf_orig.score(X_train, y_train)\n",
    "            val_score = rf_orig.score(X_val, y_val)\n",
    "            if best[0] < val_score:\n",
    "                best = (val_score, rf_orig, (a, b, c))\n",
    "            print(train_score)\n",
    "            print(val_score)\n",
    "\n",
    "print(best)"
   ]
  },
  {
   "cell_type": "code",
   "execution_count": null,
   "metadata": {},
   "outputs": [],
   "source": [
    "# Test Data Prediction\n",
    "\n",
    "rf = RandomForestClassifier(n_estimators=120, max_features=15, max_depth=15)\n",
    "rf.fit(X_train, y_train)\n",
    "train_score = rf.score(X_train, y_train)\n",
    "test_score = rf.score(X_test, y_test)\n",
    "print(train_score)\n",
    "print(test_score)"
   ]
  },
  {
   "cell_type": "code",
   "execution_count": null,
   "metadata": {},
   "outputs": [],
   "source": [
    "# Assuming you have trained a tree-based model called 'model'\n",
    "\n",
    "# Get feature importances\n",
    "importances = model.feature_importances_\n",
    "\n",
    "# Get the feature names\n",
    "feature_names = [\"feature1\", \"feature2\", ...]  # Replace with your actual feature names\n",
    "\n",
    "# Sort feature importances in descending order\n",
    "indices = np.argsort(importances)[::-1]\n",
    "\n",
    "# Rearrange feature names accordingly\n",
    "sorted_feature_names = [feature_names[i] for i in indices]"
   ]
  },
  {
   "cell_type": "code",
   "execution_count": null,
   "metadata": {},
   "outputs": [],
   "source": [
    "# Plot the feature importances\n",
    "plt.barh(sorted_feature_names, importances[indices])\n",
    "plt.xlabel(\"Feature Importance\")\n",
    "plt.ylabel(\"Feature\")\n",
    "plt.title(\"Feature Importance (Tree-based Model)\")\n",
    "plt.show()"
   ]
  },
  {
   "cell_type": "code",
   "execution_count": null,
   "metadata": {},
   "outputs": [],
   "source": [
    "# LOGISTIC REGRESSION\n",
    "\n",
    "from sklearn.linear_model import LogisticRegression\n",
    "from sklearn.model_selection import GridSearchCV\n",
    "\n",
    "# Define the logistic regression model\n",
    "model = LogisticRegression()\n",
    "\n",
    "# Define the hyperparameters to tune\n",
    "parameters = {\"penalty\": [\"l1\", \"l2\"], \"C\": [0.001, 0.01, 0.1, 1, 10, 100]}\n",
    "\n",
    "# Perform grid search using cross-validation\n",
    "grid_search = GridSearchCV(model, parameters, cv=5)\n",
    "grid_search.fit(X_train, y_train)\n",
    "\n",
    "# Print the best hyperparameters and the corresponding mean cross-validated score\n",
    "print(\"Best Hyperparameters: \", grid_search.best_params_)\n",
    "print(\"Best Score: \", grid_search.best_score_)"
   ]
  },
  {
   "cell_type": "code",
   "execution_count": null,
   "metadata": {},
   "outputs": [],
   "source": [
    "# Assuming you have trained a logistic regression model called 'model'\n",
    "\n",
    "# Get the absolute coefficients\n",
    "coefs = np.abs(model.coef_[0])\n",
    "\n",
    "# Get the feature names\n",
    "feature_names = [\"feature1\", \"feature2\", ...]  # Replace with your actual feature names\n",
    "\n",
    "# Plot the feature importances\n",
    "plt.barh(feature_names, coefs)\n",
    "plt.xlabel(\"Coefficient Magnitude\")\n",
    "plt.ylabel(\"Feature\")\n",
    "plt.title(\"Feature Importance (Logistic Regression)\")\n",
    "plt.show()"
   ]
  }
 ],
 "metadata": {
  "language_info": {
   "name": "python"
  },
  "orig_nbformat": 4
 },
 "nbformat": 4,
 "nbformat_minor": 2
}
